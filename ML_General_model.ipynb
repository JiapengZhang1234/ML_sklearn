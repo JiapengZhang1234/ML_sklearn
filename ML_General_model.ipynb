{
 "cells": [
  {
   "cell_type": "code",
   "execution_count": 2,
   "metadata": {},
   "outputs": [],
   "source": [
    "# 1.数据准备\n",
    "\n",
    "#导入sklearn内置的数据库\n",
    "from sklearn import datasets\n",
    "#训练集与测试集分离函数\n",
    "from sklearn.model_selection import train_test_split\n",
    "\n",
    "#读取sklearn自带数据库中的鸢尾花数据集，并将数据和标签分开存放\n",
    "iris = datasets.load_iris()\n",
    "\n",
    "iris_x = iris.data\n",
    "iris_y = iris.target\n",
    "\n",
    "#将数据集分为训练集和测试集\n",
    "\n",
    "#在分离数据的同时，该函数能够打乱数据的次序，减少数据之间的相关性\n",
    "x_train,x_test,y_train,y_test = train_test_split(iris_x,iris_y,test_size=0.3)"
   ]
  },
  {
   "cell_type": "code",
   "execution_count": 3,
   "metadata": {},
   "outputs": [],
   "source": [
    "# 2.建立模型\n",
    "\n",
    "#导入我们要使用的机器学习算法\n",
    "from sklearn.neighbors import KNeighborsClassifier\n",
    "knn = KNeighborsClassifier()"
   ]
  },
  {
   "cell_type": "code",
   "execution_count": 4,
   "metadata": {},
   "outputs": [
    {
     "data": {
      "text/plain": [
       "KNeighborsClassifier(algorithm='auto', leaf_size=30, metric='minkowski',\n",
       "                     metric_params=None, n_jobs=None, n_neighbors=5, p=2,\n",
       "                     weights='uniform')"
      ]
     },
     "execution_count": 4,
     "metadata": {},
     "output_type": "execute_result"
    }
   ],
   "source": [
    "# 3.训练\n",
    "\n",
    "#训练模型\n",
    "knn.fit(x_train,y_train)"
   ]
  },
  {
   "cell_type": "code",
   "execution_count": 5,
   "metadata": {},
   "outputs": [
    {
     "name": "stdout",
     "output_type": "stream",
     "text": [
      "0.9555555555555556\n"
     ]
    }
   ],
   "source": [
    "# 4.测试\n",
    "\n",
    "#模型的准确率\n",
    "acc = knn.score(x_test,y_test)\n",
    "print(acc)"
   ]
  },
  {
   "cell_type": "code",
   "execution_count": 10,
   "metadata": {},
   "outputs": [
    {
     "name": "stdout",
     "output_type": "stream",
     "text": [
      "[1 1 0 0 1 1 2 2 0 1 2 1 1 1 2 0 2 1 2 0 1 2 0 1 2 1 0 2 0 0 1 0 1 2 2 2 1\n",
      " 2 2 2 2 2 1 1 1]\n"
     ]
    }
   ],
   "source": [
    "#5.预测\n",
    "\n",
    "#利用训练好的模型预测数据\n",
    "print(knn.predict(x_test))\n"
   ]
  },
  {
   "cell_type": "code",
   "execution_count": 6,
   "metadata": {},
   "outputs": [
    {
     "data": {
      "text/plain": [
       "['iris_knn.pkl']"
      ]
     },
     "execution_count": 6,
     "metadata": {},
     "output_type": "execute_result"
    }
   ],
   "source": [
    "#6.模型的存储与加载\n",
    "\n",
    "import joblib\n",
    "\n",
    "#存储模型\n",
    "joblib.dump(knn,'iris_knn.pkl')"
   ]
  },
  {
   "cell_type": "code",
   "execution_count": 9,
   "metadata": {},
   "outputs": [
    {
     "name": "stdout",
     "output_type": "stream",
     "text": [
      "0.9533333333333334\n"
     ]
    }
   ],
   "source": [
    "#加载模型\n",
    "knn2 = joblib.load('iris_knn.pkl')\n",
    "print(knn2.score(iris_x,iris_y))"
   ]
  },
  {
   "cell_type": "code",
   "execution_count": null,
   "metadata": {},
   "outputs": [],
   "source": []
  },
  {
   "cell_type": "code",
   "execution_count": 11,
   "metadata": {},
   "outputs": [
    {
     "name": "stdout",
     "output_type": "stream",
     "text": [
      "[0.96666667 1.         0.93333333 0.96666667 1.        ]\n",
      "0.9733333333333334\n"
     ]
    }
   ],
   "source": [
    "#交叉验证\n",
    "\n",
    "from sklearn.model_selection import cross_val_score\n",
    "knn = KNeighborsClassifier()\n",
    "scores = cross_val_score(knn,iris_x,iris_y,cv=5,scoring='accuracy')\n",
    "print(scores)\n",
    "scores_mean = cross_val_score(knn,iris_x,iris_y,cv=5,scoring='accuracy').mean()\n",
    "print(scores_mean)"
   ]
  },
  {
   "cell_type": "code",
   "execution_count": 5,
   "metadata": {},
   "outputs": [
    {
     "name": "stdout",
     "output_type": "stream",
     "text": [
      "[ 12  39  66  93 120]\n",
      "[[1.         1.         1.         1.         1.        ]\n",
      " [1.         1.         1.         1.         1.        ]\n",
      " [1.         1.         1.         1.         1.        ]\n",
      " [0.98924731 0.96774194 0.98924731 0.97849462 0.97849462]\n",
      " [0.96666667 0.96666667 0.975      0.975      0.96666667]]\n"
     ]
    }
   ],
   "source": [
    "#学习曲线\n",
    "from sklearn.model_selection import learning_curve\n",
    "knn = KNeighborsClassifier()\n",
    "train_size, train_acc, test_acc = learning_curve(knn,iris_x,iris_y,cv=5)\n",
    "print(train_size)\n",
    "print(train_acc)"
   ]
  },
  {
   "cell_type": "code",
   "execution_count": 7,
   "metadata": {},
   "outputs": [
    {
     "data": {
      "image/png": "[encoded data removed]",
      "text/plain": [
       "<Figure size 432x288 with 1 Axes>"
      ]
     },
     "metadata": {
      "needs_background": "light"
     },
     "output_type": "display_data"
    }
   ],
   "source": [
    "#将学习曲线给出的数据可视化\n",
    "import matplotlib.pyplot as plt\n",
    "plt.plot(train_size,train_acc.mean(axis=1),label='train_acc')\n",
    "plt.plot(train_size,test_acc.mean(axis=1),label='test_acc')\n",
    "plt.legend()\n",
    "plt.show()"
   ]
  },
  {
   "cell_type": "code",
   "execution_count": 13,
   "metadata": {},
   "outputs": [
    {
     "data": {
      "image/png": "[encoded data removed]",
      "text/plain": [
       "<Figure size 432x288 with 1 Axes>"
      ]
     },
     "metadata": {
      "needs_background": "light"
     },
     "output_type": "display_data"
    }
   ],
   "source": [
    "#常规的选择超参数的方法\n",
    "acc = []\n",
    "for i in range(1,11):\n",
    "    knn = KNeighborsClassifier(n_neighbors=i) \n",
    "    acc.append(cross_val_score(knn,iris_x,iris_y,cv=5).mean())\n",
    "\n",
    "plt.plot(range(1,11),acc,'o--')\n",
    "plt.show()"
   ]
  },
  {
   "cell_type": "code",
   "execution_count": 14,
   "metadata": {},
   "outputs": [
    {
     "name": "stdout",
     "output_type": "stream",
     "text": [
      "[[1.         1.         1.         1.         1.        ]\n",
      " [0.975      0.98333333 0.975      0.98333333 0.975     ]\n",
      " [0.95833333 0.95833333 0.96666667 0.96666667 0.95      ]\n",
      " [0.95833333 0.95833333 0.95833333 0.975      0.96666667]\n",
      " [0.96666667 0.96666667 0.975      0.975      0.96666667]\n",
      " [0.96666667 0.975      0.975      0.98333333 0.96666667]\n",
      " [0.96666667 0.96666667 0.975      0.98333333 0.975     ]\n",
      " [0.975      0.98333333 0.975      0.99166667 0.975     ]\n",
      " [0.975      0.98333333 0.975      0.98333333 0.975     ]\n",
      " [0.975      0.975      0.975      0.98333333 0.95833333]]\n",
      "[[0.96666667 0.96666667 0.93333333 0.93333333 1.        ]\n",
      " [0.96666667 0.93333333 0.93333333 0.9        1.        ]\n",
      " [0.96666667 0.96666667 0.93333333 0.96666667 1.        ]\n",
      " [0.96666667 0.96666667 0.96666667 0.96666667 1.        ]\n",
      " [0.96666667 1.         0.93333333 0.96666667 1.        ]\n",
      " [0.96666667 1.         0.96666667 0.96666667 1.        ]\n",
      " [0.96666667 1.         0.96666667 0.96666667 1.        ]\n",
      " [0.96666667 1.         0.93333333 0.93333333 1.        ]\n",
      " [0.96666667 1.         0.96666667 0.93333333 1.        ]\n",
      " [0.96666667 1.         1.         0.93333333 1.        ]]\n"
     ]
    }
   ],
   "source": [
    "#参数验证曲线\n",
    "from sklearn.model_selection import validation_curve\n",
    "\n",
    "knn = KNeighborsClassifier()\n",
    "train_acc,test_acc = validation_curve(knn, iris_x, iris_y, param_name='n_neighbors', \n",
    "                                      param_range=range(1,11),cv=5)\n",
    "print(train_acc)\n",
    "print(test_acc)\n"
   ]
  },
  {
   "cell_type": "code",
   "execution_count": 17,
   "metadata": {},
   "outputs": [
    {
     "data": {
      "image/png": "[encoded data removed]",
      "text/plain": [
       "<Figure size 432x288 with 1 Axes>"
      ]
     },
     "metadata": {
      "needs_background": "light"
     },
     "output_type": "display_data"
    }
   ],
   "source": [
    "#参数验证曲线的可视化\n",
    "plt.plot(range(1,11),train_acc.mean(axis=1),'o--',label='train_acc')\n",
    "plt.plot(range(1,11),test_acc.mean(axis=1),'o--',label='test_acc')\n",
    "plt.legend()\n",
    "plt.show()"
   ]
  },
  {
   "cell_type": "code",
   "execution_count": null,
   "metadata": {},
   "outputs": [],
   "source": []
  }
 ],
 "metadata": {
  "kernelspec": {
   "display_name": "Python 3",
   "language": "python",
   "name": "python3"
  },
  "language_info": {
   "codemirror_mode": {
    "name": "ipython",
    "version": 3
   },
   "file_extension": ".py",
   "mimetype": "text/x-python",
   "name": "python",
   "nbconvert_exporter": "python",
   "pygments_lexer": "ipython3",
   "version": "3.6.10"
  }
 },
 "nbformat": 4,
 "nbformat_minor": 4
}
