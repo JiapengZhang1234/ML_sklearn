{
 "cells": [
  {
   "cell_type": "code",
   "execution_count": 5,
   "metadata": {},
   "outputs": [
    {
     "name": "stdout",
     "output_type": "stream",
     "text": [
      "[[  10.     2.7    3.6]\n",
      " [-100.     5.    -2. ]\n",
      " [ 120.    20.    40. ]]\n"
     ]
    }
   ],
   "source": [
    "from sklearn import preprocessing \n",
    "import numpy as np\n",
    "\n",
    "#原始数据\n",
    "a = np.array([[10,2.7,3.6],[-100,5,-2],[120,20,40]],dtype=np.float64)\n",
    "print(a)"
   ]
  },
  {
   "cell_type": "code",
   "execution_count": 6,
   "metadata": {},
   "outputs": [
    {
     "name": "stdout",
     "output_type": "stream",
     "text": [
      "[[ 0.         -0.85170713 -0.55138018]\n",
      " [-1.22474487 -0.55187146 -0.852133  ]\n",
      " [ 1.22474487  1.40357859  1.40351318]]\n"
     ]
    }
   ],
   "source": [
    "#对数据进行标准化\n",
    "a_scale = preprocessing.scale(a)\n",
    "print(a_scale)"
   ]
  },
  {
   "cell_type": "code",
   "execution_count": 18,
   "metadata": {},
   "outputs": [],
   "source": [
    "#数据处理实例\n",
    "\n",
    "from sklearn import datasets,preprocessing\n",
    "from sklearn.model_selection import train_test_split\n",
    "from sklearn.neighbors import KNeighborsClassifier\n",
    "\n",
    "#读取数据\n",
    "iris = datasets.load_iris()"
   ]
  },
  {
   "cell_type": "code",
   "execution_count": 19,
   "metadata": {},
   "outputs": [
    {
     "name": "stdout",
     "output_type": "stream",
     "text": [
      "0.85\n"
     ]
    }
   ],
   "source": [
    "\n",
    "\n",
    "#使用原始数据，不进行标准化处理\n",
    "x = iris.data\n",
    "y = iris.target\n",
    "\n",
    "x_train,x_test,y_train,y_test = train_test_split(x,y,test_size=0.13,random_state=13)\n",
    "\n",
    "#建立模型,训练模型\n",
    "knn = KNeighborsClassifier().fit(x_train,y_train)\n",
    "\n",
    "#正确率\n",
    "print(knn.score(x_test,y_test))"
   ]
  },
  {
   "cell_type": "code",
   "execution_count": 20,
   "metadata": {},
   "outputs": [
    {
     "name": "stdout",
     "output_type": "stream",
     "text": [
      "0.9\n"
     ]
    }
   ],
   "source": [
    "#正太标准化：将每一个特征的数据分布化为标准正太分布\n",
    "\n",
    "x = preprocessing.StandardScaler().fit_transform(x)\n",
    "x_train,x_test,y_train,y_test = train_test_split(x,y,test_size=0.13,random_state=13)\n",
    "\n",
    "#建立模型,训练模型\n",
    "knn = KNeighborsClassifier().fit(x_train,y_train)\n",
    "\n",
    "#正确率\n",
    "print(knn.score(x_test,y_test))"
   ]
  },
  {
   "cell_type": "code",
   "execution_count": 21,
   "metadata": {},
   "outputs": [
    {
     "name": "stdout",
     "output_type": "stream",
     "text": [
      "0.95\n"
     ]
    }
   ],
   "source": [
    "#归一化：将数据缩放到某一个范围之内。默认是0到1之间\n",
    "\n",
    "#方法1\n",
    "\n",
    "x = preprocessing.MinMaxScaler().fit_transform(x)\n",
    "x_train,x_test,y_train,y_test = train_test_split(x,y,test_size=0.13,random_state=13)\n",
    "\n",
    "#建立模型,训练模型\n",
    "knn = KNeighborsClassifier().fit(x_train,y_train)\n",
    "\n",
    "#正确率\n",
    "print(knn.score(x_test,y_test))\n",
    "\n"
   ]
  },
  {
   "cell_type": "code",
   "execution_count": 22,
   "metadata": {},
   "outputs": [
    {
     "name": "stdout",
     "output_type": "stream",
     "text": [
      "0.95\n"
     ]
    }
   ],
   "source": [
    "#方法2\n",
    "x = preprocessing.minmax_scale(x)\n",
    "x_train,x_test,y_train,y_test = train_test_split(x,y,test_size=0.13,random_state=13)\n",
    "\n",
    "#建立模型,训练模型\n",
    "knn = KNeighborsClassifier().fit(x_train,y_train)\n",
    "\n",
    "#正确率\n",
    "print(knn.score(x_test,y_test))"
   ]
  },
  {
   "cell_type": "code",
   "execution_count": 23,
   "metadata": {},
   "outputs": [
    {
     "name": "stdout",
     "output_type": "stream",
     "text": [
      "0.85\n"
     ]
    }
   ],
   "source": [
    "#异常值的处理\n",
    "#异常值对于模型的训练会产生不好的影响\n",
    "#另外，归一化方法对异常数据十分敏感，在进行归一化之前往往也需要去除异常数据\n",
    "\n",
    "x = preprocessing.RobustScaler().fit_transform(x)\n",
    "\n",
    "x_train,x_test,y_train,y_test = train_test_split(x,y,test_size=0.13,random_state=13)\n",
    "\n",
    "#建立模型,训练模型\n",
    "knn = KNeighborsClassifier().fit(x_train,y_train)\n",
    "\n",
    "#正确率\n",
    "print(knn.score(x_test,y_test))\n"
   ]
  },
  {
   "cell_type": "code",
   "execution_count": 24,
   "metadata": {},
   "outputs": [
    {
     "name": "stdout",
     "output_type": "stream",
     "text": [
      "0.95\n"
     ]
    }
   ],
   "source": [
    "#除最大数的绝对值，将数据放缩到[-1,1]之间\n",
    "#擅长于处理稀疏矩阵\n",
    "\n",
    "x = preprocessing.maxabs_scale(x)\n",
    "\n",
    "x_train,x_test,y_train,y_test = train_test_split(x,y,test_size=0.13,random_state=13)\n",
    "\n",
    "#建立模型,训练模型\n",
    "knn = KNeighborsClassifier().fit(x_train,y_train)\n",
    "\n",
    "#正确率\n",
    "print(knn.score(x_test,y_test))\n",
    "\n"
   ]
  },
  {
   "cell_type": "code",
   "execution_count": 25,
   "metadata": {},
   "outputs": [
    {
     "name": "stdout",
     "output_type": "stream",
     "text": [
      "0.95\n"
     ]
    }
   ],
   "source": [
    "#处理缺失值\n",
    "\n",
    "from sklearn.impute import SimpleImputer\n",
    "\n",
    "x = SimpleImputer().fit_transform(x)\n",
    "\n",
    "x_train,x_test,y_train,y_test = train_test_split(x,y,test_size=0.13,random_state=13)\n",
    "\n",
    "#建立模型,训练模型\n",
    "knn = KNeighborsClassifier().fit(x_train,y_train)\n",
    "\n",
    "#正确率\n",
    "print(knn.score(x_test,y_test))\n",
    "\n",
    "\n"
   ]
  },
  {
   "cell_type": "code",
   "execution_count": 27,
   "metadata": {},
   "outputs": [
    {
     "name": "stdout",
     "output_type": "stream",
     "text": [
      "0.9\n"
     ]
    }
   ],
   "source": [
    "#常规标准化\n",
    "#数据分布的均值为0，方差为1.但不要求数据分布为正太分布\n",
    "x = preprocessing.scale(x)\n",
    "\n",
    "x_train,x_test,y_train,y_test = train_test_split(x,y,test_size=0.13,random_state=13)\n",
    "\n",
    "#建立模型,训练模型\n",
    "knn = KNeighborsClassifier().fit(x_train,y_train)\n",
    "\n",
    "#正确率\n",
    "print(knn.score(x_test,y_test))"
   ]
  },
  {
   "cell_type": "code",
   "execution_count": null,
   "metadata": {},
   "outputs": [],
   "source": []
  }
 ],
 "metadata": {
  "kernelspec": {
   "display_name": "Python 3",
   "language": "python",
   "name": "python3"
  },
  "language_info": {
   "codemirror_mode": {
    "name": "ipython",
    "version": 3
   },
   "file_extension": ".py",
   "mimetype": "text/x-python",
   "name": "python",
   "nbconvert_exporter": "python",
   "pygments_lexer": "ipython3",
   "version": "3.6.10"
  }
 },
 "nbformat": 4,
 "nbformat_minor": 4
}
