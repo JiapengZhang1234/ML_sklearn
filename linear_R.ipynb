{
 "cells": [
  {
   "cell_type": "code",
   "execution_count": 12,
   "metadata": {},
   "outputs": [],
   "source": [
    "from sklearn.datasets import fetch_california_housing\n",
    "from sklearn.linear_model import LinearRegression,Lasso,Ridge,ElasticNet\n",
    "from sklearn.model_selection import cross_val_score\n",
    "#读取数据\n",
    "x,y = fetch_california_housing(return_X_y = True)\n"
   ]
  },
  {
   "cell_type": "code",
   "execution_count": 13,
   "metadata": {},
   "outputs": [
    {
     "name": "stdout",
     "output_type": "stream",
     "text": [
      "0.5582901717686812\n"
     ]
    }
   ],
   "source": [
    "#建立LinearRegression模型\n",
    "lr = LinearRegression()\n",
    "\n",
    "#模型性能交叉验证\n",
    "loss = -cross_val_score(lr, x, y, cv=5,scoring='neg_mean_squared_error').mean()\n",
    "print(loss)"
   ]
  },
  {
   "cell_type": "code",
   "execution_count": 14,
   "metadata": {},
   "outputs": [
    {
     "name": "stdout",
     "output_type": "stream",
     "text": [
      "0.5640234205979403 0.5582900561705333 0.5603421342140541\n"
     ]
    }
   ],
   "source": [
    "#建立 Lasso,Ridge,ElasticNet 等加入正则化之后的线性回归模型\n",
    "lasso = Lasso(alpha=0.01)\n",
    "ridge = Ridge(alpha=0.01)\n",
    "elasticnet = ElasticNet(alpha=0.01)\n",
    "\n",
    "#模型性能交叉验证\n",
    "loss1 = -cross_val_score(lasso, x, y, cv=5,scoring='neg_mean_squared_error').mean()\n",
    "loss2 = -cross_val_score(ridge, x, y, cv=5,scoring='neg_mean_squared_error').mean()\n",
    "loss3 = -cross_val_score(elasticnet, x, y, cv=5,scoring='neg_mean_squared_error').mean()\n",
    "print(loss1,loss2,loss3)"
   ]
  },
  {
   "cell_type": "code",
   "execution_count": 8,
   "metadata": {},
   "outputs": [],
   "source": []
  },
  {
   "cell_type": "code",
   "execution_count": null,
   "metadata": {},
   "outputs": [],
   "source": []
  }
 ],
 "metadata": {
  "kernelspec": {
   "display_name": "Python 3",
   "language": "python",
   "name": "python3"
  },
  "language_info": {
   "codemirror_mode": {
    "name": "ipython",
    "version": 3
   },
   "file_extension": ".py",
   "mimetype": "text/x-python",
   "name": "python",
   "nbconvert_exporter": "python",
   "pygments_lexer": "ipython3",
   "version": "3.6.10"
  }
 },
 "nbformat": 4,
 "nbformat_minor": 4
}
