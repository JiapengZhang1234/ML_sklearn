{
 "cells": [
  {
   "cell_type": "code",
   "execution_count": 15,
   "metadata": {},
   "outputs": [],
   "source": [
    "import numpy as np\n",
    "import pandas as pd\n",
    "import matplotlib.pyplot as plt\n",
    "import pandas_datareader as pdr\n",
    "from statsmodels.graphics.tsaplots import plot_acf, plot_pacf"
   ]
  },
  {
   "cell_type": "markdown",
   "metadata": {},
   "source": [
    "### 读取数据"
   ]
  },
  {
   "cell_type": "code",
   "execution_count": 4,
   "metadata": {},
   "outputs": [],
   "source": [
    "amazon_data = pdr.get_data_yahoo('AMZN')"
   ]
  },
  {
   "cell_type": "code",
   "execution_count": 5,
   "metadata": {},
   "outputs": [
    {
     "data": {
      "text/html": [
       "<div>\n",
       "<style scoped>\n",
       "    .dataframe tbody tr th:only-of-type {\n",
       "        vertical-align: middle;\n",
       "    }\n",
       "\n",
       "    .dataframe tbody tr th {\n",
       "        vertical-align: top;\n",
       "    }\n",
       "\n",
       "    .dataframe thead th {\n",
       "        text-align: right;\n",
       "    }\n",
       "</style>\n",
       "<table border=\"1\" class=\"dataframe\">\n",
       "  <thead>\n",
       "    <tr style=\"text-align: right;\">\n",
       "      <th></th>\n",
       "      <th>High</th>\n",
       "      <th>Low</th>\n",
       "      <th>Open</th>\n",
       "      <th>Close</th>\n",
       "      <th>Volume</th>\n",
       "      <th>Adj Close</th>\n",
       "    </tr>\n",
       "    <tr>\n",
       "      <th>Date</th>\n",
       "      <th></th>\n",
       "      <th></th>\n",
       "      <th></th>\n",
       "      <th></th>\n",
       "      <th></th>\n",
       "      <th></th>\n",
       "    </tr>\n",
       "  </thead>\n",
       "  <tbody>\n",
       "    <tr>\n",
       "      <th>2015-09-15</th>\n",
       "      <td>527.919983</td>\n",
       "      <td>517.200012</td>\n",
       "      <td>523.250000</td>\n",
       "      <td>522.369995</td>\n",
       "      <td>2865900</td>\n",
       "      <td>522.369995</td>\n",
       "    </tr>\n",
       "    <tr>\n",
       "      <th>2015-09-16</th>\n",
       "      <td>528.299988</td>\n",
       "      <td>518.520020</td>\n",
       "      <td>521.979980</td>\n",
       "      <td>527.390015</td>\n",
       "      <td>2252800</td>\n",
       "      <td>527.390015</td>\n",
       "    </tr>\n",
       "    <tr>\n",
       "      <th>2015-09-17</th>\n",
       "      <td>546.969971</td>\n",
       "      <td>526.570007</td>\n",
       "      <td>526.979980</td>\n",
       "      <td>538.869995</td>\n",
       "      <td>4169500</td>\n",
       "      <td>538.869995</td>\n",
       "    </tr>\n",
       "    <tr>\n",
       "      <th>2015-09-18</th>\n",
       "      <td>546.239990</td>\n",
       "      <td>531.349976</td>\n",
       "      <td>534.619995</td>\n",
       "      <td>540.260010</td>\n",
       "      <td>6160100</td>\n",
       "      <td>540.260010</td>\n",
       "    </tr>\n",
       "    <tr>\n",
       "      <th>2015-09-21</th>\n",
       "      <td>549.780029</td>\n",
       "      <td>539.590027</td>\n",
       "      <td>544.330017</td>\n",
       "      <td>548.390015</td>\n",
       "      <td>3283300</td>\n",
       "      <td>548.390015</td>\n",
       "    </tr>\n",
       "  </tbody>\n",
       "</table>\n",
       "</div>"
      ],
      "text/plain": [
       "                  High         Low        Open       Close   Volume  \\\n",
       "Date                                                                  \n",
       "2015-09-15  527.919983  517.200012  523.250000  522.369995  2865900   \n",
       "2015-09-16  528.299988  518.520020  521.979980  527.390015  2252800   \n",
       "2015-09-17  546.969971  526.570007  526.979980  538.869995  4169500   \n",
       "2015-09-18  546.239990  531.349976  534.619995  540.260010  6160100   \n",
       "2015-09-21  549.780029  539.590027  544.330017  548.390015  3283300   \n",
       "\n",
       "             Adj Close  \n",
       "Date                    \n",
       "2015-09-15  522.369995  \n",
       "2015-09-16  527.390015  \n",
       "2015-09-17  538.869995  \n",
       "2015-09-18  540.260010  \n",
       "2015-09-21  548.390015  "
      ]
     },
     "execution_count": 5,
     "metadata": {},
     "output_type": "execute_result"
    }
   ],
   "source": [
    "amazon_data.head()"
   ]
  },
  {
   "cell_type": "markdown",
   "metadata": {},
   "source": [
    "### 数据预处理"
   ]
  },
  {
   "cell_type": "code",
   "execution_count": 10,
   "metadata": {},
   "outputs": [],
   "source": [
    "df = amazon_data['Open'].values"
   ]
  },
  {
   "cell_type": "code",
   "execution_count": 11,
   "metadata": {},
   "outputs": [
    {
     "data": {
      "text/plain": [
       "array([ 523.25      ,  521.97998047,  526.97998047, ..., 3202.98999023,\n",
       "       3307.2199707 , 3208.68994141])"
      ]
     },
     "execution_count": 11,
     "metadata": {},
     "output_type": "execute_result"
    }
   ],
   "source": [
    "df"
   ]
  },
  {
   "cell_type": "code",
   "execution_count": 12,
   "metadata": {},
   "outputs": [],
   "source": [
    "df = df.reshape(-1,1)"
   ]
  },
  {
   "cell_type": "code",
   "execution_count": 13,
   "metadata": {},
   "outputs": [
    {
     "data": {
      "text/plain": [
       "array([[ 523.25      ],\n",
       "       [ 521.97998047],\n",
       "       [ 526.97998047],\n",
       "       ...,\n",
       "       [3202.98999023],\n",
       "       [3307.2199707 ],\n",
       "       [3208.68994141]])"
      ]
     },
     "execution_count": 13,
     "metadata": {},
     "output_type": "execute_result"
    }
   ],
   "source": [
    "df"
   ]
  },
  {
   "cell_type": "markdown",
   "metadata": {},
   "source": [
    "### 数据分析"
   ]
  },
  {
   "cell_type": "code",
   "execution_count": 14,
   "metadata": {},
   "outputs": [
    {
     "data": {
      "image/png": "[encoded data removed]",
      "text/plain": [
       "<Figure size 432x288 with 1 Axes>"
      ]
     },
     "metadata": {
      "needs_background": "light"
     },
     "output_type": "display_data"
    }
   ],
   "source": [
    "# 通过数据可视化的方式检验时间序列的平稳性\n",
    "plt.plot(df)\n",
    "plt.show()"
   ]
  },
  {
   "cell_type": "markdown",
   "metadata": {},
   "source": [
    "该序列有明显的单调递增趋势，因此可以判断为非平稳序列"
   ]
  },
  {
   "cell_type": "code",
   "execution_count": 16,
   "metadata": {},
   "outputs": [
    {
     "name": "stderr",
     "output_type": "stream",
     "text": [
      "D:\\conda\\envs\\py36\\lib\\site-packages\\ipykernel_launcher.py:2: UserWarning: Matplotlib is currently using module://ipykernel.pylab.backend_inline, which is a non-GUI backend, so cannot show the figure.\n",
      "  \n"
     ]
    },
    {
     "data": {
      "image/png": "[encoded data removed]",
      "text/plain": [
       "<Figure size 432x288 with 1 Axes>"
      ]
     },
     "metadata": {
      "needs_background": "light"
     },
     "output_type": "display_data"
    }
   ],
   "source": [
    "# 原始数据的自相关图\n",
    "plot_acf(df).show()"
   ]
  },
  {
   "cell_type": "code",
   "execution_count": 17,
   "metadata": {},
   "outputs": [
    {
     "name": "stderr",
     "output_type": "stream",
     "text": [
      "D:\\conda\\envs\\py36\\lib\\site-packages\\ipykernel_launcher.py:2: UserWarning: Matplotlib is currently using module://ipykernel.pylab.backend_inline, which is a non-GUI backend, so cannot show the figure.\n",
      "  \n"
     ]
    },
    {
     "data": {
      "image/png": "[encoded data removed]",
      "text/plain": [
       "<Figure size 432x288 with 1 Axes>"
      ]
     },
     "metadata": {
      "needs_background": "light"
     },
     "output_type": "display_data"
    }
   ],
   "source": [
    "#原始数据的偏自相关图\n",
    "plot_pacf(df).show()"
   ]
  },
  {
   "cell_type": "code",
   "execution_count": 18,
   "metadata": {},
   "outputs": [
    {
     "data": {
      "text/plain": [
       "(1.3986590792761961,\n",
       " 0.9971080418018762,\n",
       " 14,\n",
       " 1243,\n",
       " {'1%': -3.435621806786881,\n",
       "  '5%': -2.8638680226791444,\n",
       "  '10%': -2.5680094689100477},\n",
       " 12204.899983401972)"
      ]
     },
     "execution_count": 18,
     "metadata": {},
     "output_type": "execute_result"
    }
   ],
   "source": [
    "#平稳性检测-ADF检验\n",
    "from statsmodels.tsa.stattools import adfuller as ADF\n",
    "ADF(df)\n",
    "#目前这种方法还不知道具体如何使用，以及它做出判断的原理"
   ]
  },
  {
   "cell_type": "code",
   "execution_count": 29,
   "metadata": {},
   "outputs": [],
   "source": [
    "#差分处理\n",
    "#对原始序列进行一阶差分处理，并进行平稳性检测\n",
    "df_diff1 = np.diff(df,axis=0)"
   ]
  },
  {
   "cell_type": "code",
   "execution_count": 30,
   "metadata": {},
   "outputs": [
    {
     "name": "stdout",
     "output_type": "stream",
     "text": [
      "[[ -1.27001953]\n",
      " [  5.        ]\n",
      " [  7.64001465]\n",
      " ...\n",
      " [ 58.98999023]\n",
      " [104.22998047]\n",
      " [-98.5300293 ]]\n"
     ]
    }
   ],
   "source": [
    "print(df_diff1)"
   ]
  },
  {
   "cell_type": "code",
   "execution_count": 31,
   "metadata": {},
   "outputs": [
    {
     "data": {
      "image/png": "[encoded data removed]",
      "text/plain": [
       "<Figure size 432x288 with 1 Axes>"
      ]
     },
     "metadata": {
      "needs_background": "light"
     },
     "output_type": "display_data"
    }
   ],
   "source": [
    "plt.plot(df_diff1)\n",
    "plt.show()"
   ]
  },
  {
   "cell_type": "code",
   "execution_count": 33,
   "metadata": {},
   "outputs": [
    {
     "name": "stderr",
     "output_type": "stream",
     "text": [
      "D:\\conda\\envs\\py36\\lib\\site-packages\\ipykernel_launcher.py:1: UserWarning: Matplotlib is currently using module://ipykernel.pylab.backend_inline, which is a non-GUI backend, so cannot show the figure.\n",
      "  \"\"\"Entry point for launching an IPython kernel.\n"
     ]
    },
    {
     "data": {
      "image/png": "[encoded data removed]",
      "text/plain": [
       "<Figure size 432x288 with 1 Axes>"
      ]
     },
     "metadata": {
      "needs_background": "light"
     },
     "output_type": "display_data"
    }
   ],
   "source": [
    "plot_acf(df_diff1).show()"
   ]
  },
  {
   "cell_type": "code",
   "execution_count": 34,
   "metadata": {},
   "outputs": [
    {
     "name": "stderr",
     "output_type": "stream",
     "text": [
      "D:\\conda\\envs\\py36\\lib\\site-packages\\ipykernel_launcher.py:1: UserWarning: Matplotlib is currently using module://ipykernel.pylab.backend_inline, which is a non-GUI backend, so cannot show the figure.\n",
      "  \"\"\"Entry point for launching an IPython kernel.\n"
     ]
    },
    {
     "data": {
      "image/png": "[encoded data removed]",
      "text/plain": [
       "<Figure size 432x288 with 1 Axes>"
      ]
     },
     "metadata": {
      "needs_background": "light"
     },
     "output_type": "display_data"
    }
   ],
   "source": [
    "plot_pacf(df_diff1).show()"
   ]
  },
  {
   "cell_type": "code",
   "execution_count": 35,
   "metadata": {},
   "outputs": [
    {
     "data": {
      "text/plain": [
       "(-10.040280036710296,\n",
       " 1.5026304859549143e-17,\n",
       " 13,\n",
       " 1243,\n",
       " {'1%': -3.435621806786881,\n",
       "  '5%': -2.8638680226791444,\n",
       "  '10%': -2.5680094689100477},\n",
       " 12196.05108042011)"
      ]
     },
     "execution_count": 35,
     "metadata": {},
     "output_type": "execute_result"
    }
   ],
   "source": [
    "ADF(df_diff1)"
   ]
  },
  {
   "cell_type": "markdown",
   "metadata": {},
   "source": [
    "结果显示，一阶差分之后序列的时序图在均值附近较为平稳的波动，自相关图具有较强的短期波动性，所以经过一阶差分之后的序列是平稳序列"
   ]
  },
  {
   "cell_type": "code",
   "execution_count": 36,
   "metadata": {},
   "outputs": [
    {
     "name": "stderr",
     "output_type": "stream",
     "text": [
      "D:\\conda\\envs\\py36\\lib\\site-packages\\statsmodels\\base\\model.py:548: HessianInversionWarning: Inverting hessian failed, no bse or cov_params available\n",
      "  'available', HessianInversionWarning)\n",
      "D:\\conda\\envs\\py36\\lib\\site-packages\\statsmodels\\base\\model.py:548: HessianInversionWarning: Inverting hessian failed, no bse or cov_params available\n",
      "  'available', HessianInversionWarning)\n",
      "D:\\conda\\envs\\py36\\lib\\site-packages\\statsmodels\\tsa\\tsatools.py:689: RuntimeWarning: overflow encountered in exp\n",
      "  newparams = ((1-np.exp(-params))/(1+np.exp(-params))).copy()\n",
      "D:\\conda\\envs\\py36\\lib\\site-packages\\statsmodels\\tsa\\tsatools.py:689: RuntimeWarning: invalid value encountered in true_divide\n",
      "  newparams = ((1-np.exp(-params))/(1+np.exp(-params))).copy()\n",
      "D:\\conda\\envs\\py36\\lib\\site-packages\\statsmodels\\tsa\\tsatools.py:690: RuntimeWarning: overflow encountered in exp\n",
      "  tmp = ((1-np.exp(-params))/(1+np.exp(-params))).copy()\n",
      "D:\\conda\\envs\\py36\\lib\\site-packages\\statsmodels\\tsa\\tsatools.py:690: RuntimeWarning: invalid value encountered in true_divide\n",
      "  tmp = ((1-np.exp(-params))/(1+np.exp(-params))).copy()\n",
      "D:\\conda\\envs\\py36\\lib\\site-packages\\statsmodels\\base\\model.py:548: HessianInversionWarning: Inverting hessian failed, no bse or cov_params available\n",
      "  'available', HessianInversionWarning)\n",
      "D:\\conda\\envs\\py36\\lib\\site-packages\\statsmodels\\base\\model.py:568: ConvergenceWarning: Maximum Likelihood optimization failed to converge. Check mle_retvals\n",
      "  \"Check mle_retvals\", ConvergenceWarning)\n",
      "D:\\conda\\envs\\py36\\lib\\site-packages\\statsmodels\\base\\model.py:548: HessianInversionWarning: Inverting hessian failed, no bse or cov_params available\n",
      "  'available', HessianInversionWarning)\n",
      "D:\\conda\\envs\\py36\\lib\\site-packages\\statsmodels\\base\\model.py:548: HessianInversionWarning: Inverting hessian failed, no bse or cov_params available\n",
      "  'available', HessianInversionWarning)\n",
      "D:\\conda\\envs\\py36\\lib\\site-packages\\statsmodels\\base\\model.py:568: ConvergenceWarning: Maximum Likelihood optimization failed to converge. Check mle_retvals\n",
      "  \"Check mle_retvals\", ConvergenceWarning)\n",
      "D:\\conda\\envs\\py36\\lib\\site-packages\\statsmodels\\base\\model.py:568: ConvergenceWarning: Maximum Likelihood optimization failed to converge. Check mle_retvals\n",
      "  \"Check mle_retvals\", ConvergenceWarning)\n",
      "D:\\conda\\envs\\py36\\lib\\site-packages\\statsmodels\\base\\model.py:548: HessianInversionWarning: Inverting hessian failed, no bse or cov_params available\n",
      "  'available', HessianInversionWarning)\n",
      "D:\\conda\\envs\\py36\\lib\\site-packages\\statsmodels\\base\\model.py:568: ConvergenceWarning: Maximum Likelihood optimization failed to converge. Check mle_retvals\n",
      "  \"Check mle_retvals\", ConvergenceWarning)\n",
      "D:\\conda\\envs\\py36\\lib\\site-packages\\statsmodels\\base\\model.py:568: ConvergenceWarning: Maximum Likelihood optimization failed to converge. Check mle_retvals\n",
      "  \"Check mle_retvals\", ConvergenceWarning)\n"
     ]
    }
   ],
   "source": [
    "# 相对最优模型识别：计算ARMA模型的AIC或者BIC\n",
    "# AIC赤池信息准侧\n",
    "# BIC贝叶斯信息准侧\n",
    "from statsmodels.tsa.arima_model import ARIMA\n",
    "\n",
    "p_max = 10\n",
    "q_max = 10\n",
    "aic_matrix = []\n",
    "for p in range(p_max+1):\n",
    "    tmp = []\n",
    "    for q in range(q_max+1):\n",
    "        try:\n",
    "            arima = ARIMA(df,(p,1,q)).fit()\n",
    "            tmp.append(arima.aic)\n",
    "        except:\n",
    "            tmp.append(None)\n",
    "    aic_matrix.append(tmp)\n",
    "\n",
    "    "
   ]
  },
  {
   "cell_type": "code",
   "execution_count": 39,
   "metadata": {},
   "outputs": [],
   "source": [
    "aic_matrix = pd.DataFrame(aic_matrix) "
   ]
  },
  {
   "cell_type": "code",
   "execution_count": 44,
   "metadata": {},
   "outputs": [
    {
     "data": {
      "text/html": [
       "<div>\n",
       "<style scoped>\n",
       "    .dataframe tbody tr th:only-of-type {\n",
       "        vertical-align: middle;\n",
       "    }\n",
       "\n",
       "    .dataframe tbody tr th {\n",
       "        vertical-align: top;\n",
       "    }\n",
       "\n",
       "    .dataframe thead th {\n",
       "        text-align: right;\n",
       "    }\n",
       "</style>\n",
       "<table border=\"1\" class=\"dataframe\">\n",
       "  <thead>\n",
       "    <tr style=\"text-align: right;\">\n",
       "      <th></th>\n",
       "      <th>0</th>\n",
       "      <th>1</th>\n",
       "      <th>2</th>\n",
       "      <th>3</th>\n",
       "      <th>4</th>\n",
       "      <th>5</th>\n",
       "      <th>6</th>\n",
       "      <th>7</th>\n",
       "      <th>8</th>\n",
       "      <th>9</th>\n",
       "      <th>10</th>\n",
       "    </tr>\n",
       "  </thead>\n",
       "  <tbody>\n",
       "    <tr>\n",
       "      <th>0</th>\n",
       "      <td>12445.837584</td>\n",
       "      <td>12432.986726</td>\n",
       "      <td>12434.974225</td>\n",
       "      <td>12432.894899</td>\n",
       "      <td>12433.113483</td>\n",
       "      <td>12434.300533</td>\n",
       "      <td>12436.287189</td>\n",
       "      <td>12436.713796</td>\n",
       "      <td>12438.713644</td>\n",
       "      <td>12427.961601</td>\n",
       "      <td>12419.356824</td>\n",
       "    </tr>\n",
       "    <tr>\n",
       "      <th>1</th>\n",
       "      <td>12433.075457</td>\n",
       "      <td>12434.915814</td>\n",
       "      <td>NaN</td>\n",
       "      <td>NaN</td>\n",
       "      <td>NaN</td>\n",
       "      <td>NaN</td>\n",
       "      <td>NaN</td>\n",
       "      <td>NaN</td>\n",
       "      <td>NaN</td>\n",
       "      <td>NaN</td>\n",
       "      <td>NaN</td>\n",
       "    </tr>\n",
       "    <tr>\n",
       "      <th>2</th>\n",
       "      <td>12435.069335</td>\n",
       "      <td>12436.181123</td>\n",
       "      <td>12427.849475</td>\n",
       "      <td>NaN</td>\n",
       "      <td>NaN</td>\n",
       "      <td>NaN</td>\n",
       "      <td>NaN</td>\n",
       "      <td>NaN</td>\n",
       "      <td>NaN</td>\n",
       "      <td>NaN</td>\n",
       "      <td>NaN</td>\n",
       "    </tr>\n",
       "    <tr>\n",
       "      <th>3</th>\n",
       "      <td>12431.831836</td>\n",
       "      <td>12433.401112</td>\n",
       "      <td>12434.744167</td>\n",
       "      <td>12420.983892</td>\n",
       "      <td>NaN</td>\n",
       "      <td>NaN</td>\n",
       "      <td>NaN</td>\n",
       "      <td>NaN</td>\n",
       "      <td>NaN</td>\n",
       "      <td>NaN</td>\n",
       "      <td>NaN</td>\n",
       "    </tr>\n",
       "    <tr>\n",
       "      <th>4</th>\n",
       "      <td>12433.150381</td>\n",
       "      <td>12434.664606</td>\n",
       "      <td>12427.052799</td>\n",
       "      <td>12420.341047</td>\n",
       "      <td>12424.223796</td>\n",
       "      <td>NaN</td>\n",
       "      <td>NaN</td>\n",
       "      <td>NaN</td>\n",
       "      <td>NaN</td>\n",
       "      <td>NaN</td>\n",
       "      <td>NaN</td>\n",
       "    </tr>\n",
       "    <tr>\n",
       "      <th>5</th>\n",
       "      <td>12434.390133</td>\n",
       "      <td>12436.275730</td>\n",
       "      <td>12427.648540</td>\n",
       "      <td>12422.152166</td>\n",
       "      <td>12417.299245</td>\n",
       "      <td>12419.619793</td>\n",
       "      <td>NaN</td>\n",
       "      <td>NaN</td>\n",
       "      <td>NaN</td>\n",
       "      <td>NaN</td>\n",
       "      <td>NaN</td>\n",
       "    </tr>\n",
       "    <tr>\n",
       "      <th>6</th>\n",
       "      <td>12435.925074</td>\n",
       "      <td>12427.245530</td>\n",
       "      <td>12409.120556</td>\n",
       "      <td>12434.625866</td>\n",
       "      <td>12432.776784</td>\n",
       "      <td>12414.089934</td>\n",
       "      <td>12427.398992</td>\n",
       "      <td>NaN</td>\n",
       "      <td>NaN</td>\n",
       "      <td>NaN</td>\n",
       "      <td>NaN</td>\n",
       "    </tr>\n",
       "    <tr>\n",
       "      <th>7</th>\n",
       "      <td>12435.962041</td>\n",
       "      <td>12426.297586</td>\n",
       "      <td>12428.434865</td>\n",
       "      <td>12412.392720</td>\n",
       "      <td>12410.721616</td>\n",
       "      <td>12406.840403</td>\n",
       "      <td>12412.534403</td>\n",
       "      <td>12405.074512</td>\n",
       "      <td>NaN</td>\n",
       "      <td>NaN</td>\n",
       "      <td>NaN</td>\n",
       "    </tr>\n",
       "    <tr>\n",
       "      <th>8</th>\n",
       "      <td>12437.065618</td>\n",
       "      <td>12425.839437</td>\n",
       "      <td>12429.753943</td>\n",
       "      <td>12414.165675</td>\n",
       "      <td>12406.078653</td>\n",
       "      <td>12407.986794</td>\n",
       "      <td>12410.824578</td>\n",
       "      <td>12416.206810</td>\n",
       "      <td>NaN</td>\n",
       "      <td>NaN</td>\n",
       "      <td>NaN</td>\n",
       "    </tr>\n",
       "    <tr>\n",
       "      <th>9</th>\n",
       "      <td>12422.066000</td>\n",
       "      <td>12416.738845</td>\n",
       "      <td>12412.776895</td>\n",
       "      <td>12413.042904</td>\n",
       "      <td>12406.034705</td>\n",
       "      <td>12406.764051</td>\n",
       "      <td>12408.763726</td>\n",
       "      <td>12403.991179</td>\n",
       "      <td>12401.186402</td>\n",
       "      <td>12400.895220</td>\n",
       "      <td>NaN</td>\n",
       "    </tr>\n",
       "    <tr>\n",
       "      <th>10</th>\n",
       "      <td>12419.860626</td>\n",
       "      <td>12418.411128</td>\n",
       "      <td>12412.107088</td>\n",
       "      <td>12413.565821</td>\n",
       "      <td>12407.817285</td>\n",
       "      <td>12408.763852</td>\n",
       "      <td>12410.759867</td>\n",
       "      <td>12411.159911</td>\n",
       "      <td>12402.862210</td>\n",
       "      <td>12403.940393</td>\n",
       "      <td>12410.098100</td>\n",
       "    </tr>\n",
       "  </tbody>\n",
       "</table>\n",
       "</div>"
      ],
      "text/plain": [
       "               0             1             2             3             4  \\\n",
       "0   12445.837584  12432.986726  12434.974225  12432.894899  12433.113483   \n",
       "1   12433.075457  12434.915814           NaN           NaN           NaN   \n",
       "2   12435.069335  12436.181123  12427.849475           NaN           NaN   \n",
       "3   12431.831836  12433.401112  12434.744167  12420.983892           NaN   \n",
       "4   12433.150381  12434.664606  12427.052799  12420.341047  12424.223796   \n",
       "5   12434.390133  12436.275730  12427.648540  12422.152166  12417.299245   \n",
       "6   12435.925074  12427.245530  12409.120556  12434.625866  12432.776784   \n",
       "7   12435.962041  12426.297586  12428.434865  12412.392720  12410.721616   \n",
       "8   12437.065618  12425.839437  12429.753943  12414.165675  12406.078653   \n",
       "9   12422.066000  12416.738845  12412.776895  12413.042904  12406.034705   \n",
       "10  12419.860626  12418.411128  12412.107088  12413.565821  12407.817285   \n",
       "\n",
       "               5             6             7             8             9  \\\n",
       "0   12434.300533  12436.287189  12436.713796  12438.713644  12427.961601   \n",
       "1            NaN           NaN           NaN           NaN           NaN   \n",
       "2            NaN           NaN           NaN           NaN           NaN   \n",
       "3            NaN           NaN           NaN           NaN           NaN   \n",
       "4            NaN           NaN           NaN           NaN           NaN   \n",
       "5   12419.619793           NaN           NaN           NaN           NaN   \n",
       "6   12414.089934  12427.398992           NaN           NaN           NaN   \n",
       "7   12406.840403  12412.534403  12405.074512           NaN           NaN   \n",
       "8   12407.986794  12410.824578  12416.206810           NaN           NaN   \n",
       "9   12406.764051  12408.763726  12403.991179  12401.186402  12400.895220   \n",
       "10  12408.763852  12410.759867  12411.159911  12402.862210  12403.940393   \n",
       "\n",
       "              10  \n",
       "0   12419.356824  \n",
       "1            NaN  \n",
       "2            NaN  \n",
       "3            NaN  \n",
       "4            NaN  \n",
       "5            NaN  \n",
       "6            NaN  \n",
       "7            NaN  \n",
       "8            NaN  \n",
       "9            NaN  \n",
       "10  12410.098100  "
      ]
     },
     "execution_count": 44,
     "metadata": {},
     "output_type": "execute_result"
    }
   ],
   "source": [
    "aic_matrix"
   ]
  },
  {
   "cell_type": "code",
   "execution_count": 45,
   "metadata": {},
   "outputs": [
    {
     "data": {
      "text/plain": [
       "0   0     12445.837584\n",
       "    1     12432.986726\n",
       "    2     12434.974225\n",
       "    3     12432.894899\n",
       "    4     12433.113483\n",
       "              ...     \n",
       "10  6     12410.759867\n",
       "    7     12411.159911\n",
       "    8     12402.862210\n",
       "    9     12403.940393\n",
       "    10    12410.098100\n",
       "Length: 75, dtype: float64"
      ]
     },
     "execution_count": 45,
     "metadata": {},
     "output_type": "execute_result"
    }
   ],
   "source": [
    "#使用stack将数据展平\n",
    "aic_matrix.stack()"
   ]
  },
  {
   "cell_type": "code",
   "execution_count": 46,
   "metadata": {},
   "outputs": [],
   "source": [
    "#使用idxmin找出最小值位置\n",
    "p,q = aic_matrix.stack().idxmin()"
   ]
  },
  {
   "cell_type": "code",
   "execution_count": 47,
   "metadata": {},
   "outputs": [
    {
     "name": "stdout",
     "output_type": "stream",
     "text": [
      "9 9\n"
     ]
    }
   ],
   "source": [
    "#将最小值的位置打印出来\n",
    "print(p,q)"
   ]
  },
  {
   "cell_type": "code",
   "execution_count": 48,
   "metadata": {},
   "outputs": [
    {
     "data": {
      "text/plain": [
       "<matplotlib.axes._subplots.AxesSubplot at 0x27320828>"
      ]
     },
     "execution_count": 48,
     "metadata": {},
     "output_type": "execute_result"
    },
    {
     "data": {
      "image/png": "[encoded data removed]",
      "text/plain": [
       "<Figure size 432x288 with 2 Axes>"
      ]
     },
     "metadata": {
      "needs_background": "light"
     },
     "output_type": "display_data"
    }
   ],
   "source": [
    "import seaborn as sns\n",
    "sns.heatmap(aic_matrix)"
   ]
  },
  {
   "cell_type": "code",
   "execution_count": 60,
   "metadata": {},
   "outputs": [
    {
     "data": {
      "text/plain": [
       "Text(0.5, 1, 'AIC')"
      ]
     },
     "execution_count": 60,
     "metadata": {},
     "output_type": "execute_result"
    },
    {
     "data": {
      "image/png": "[encoded data removed]",
      "text/plain": [
       "<Figure size 432x288 with 2 Axes>"
      ]
     },
     "metadata": {
      "needs_background": "light"
     },
     "output_type": "display_data"
    }
   ],
   "source": [
    "sns.heatmap(aic_matrix)\n",
    "plt.ylabel('AR')\n",
    "plt.xlabel('MA')\n",
    "plt.title('AIC')"
   ]
  },
  {
   "cell_type": "markdown",
   "metadata": {},
   "source": [
    "从热力图也可以看出来大约是(9,9)时，AIC的值最小。"
   ]
  },
  {
   "cell_type": "markdown",
   "metadata": {},
   "source": [
    "### 模型建立与模型评估"
   ]
  },
  {
   "cell_type": "code",
   "execution_count": 62,
   "metadata": {},
   "outputs": [
    {
     "name": "stderr",
     "output_type": "stream",
     "text": [
      "D:\\conda\\envs\\py36\\lib\\site-packages\\statsmodels\\base\\model.py:548: HessianInversionWarning: Inverting hessian failed, no bse or cov_params available\n",
      "  'available', HessianInversionWarning)\n",
      "D:\\conda\\envs\\py36\\lib\\site-packages\\statsmodels\\base\\model.py:568: ConvergenceWarning: Maximum Likelihood optimization failed to converge. Check mle_retvals\n",
      "  \"Check mle_retvals\", ConvergenceWarning)\n"
     ]
    }
   ],
   "source": [
    "#根据上面的分析结果，我们建立d=1,p=9,q=9的ARIMA模型\n",
    "model = ARIMA(df,(9,1,9)).fit()"
   ]
  },
  {
   "cell_type": "code",
   "execution_count": 74,
   "metadata": {},
   "outputs": [
    {
     "data": {
      "text/html": [
       "<table class=\"simpletable\">\n",
       "<tr>\n",
       "        <td>Model:</td>              <td>ARIMA</td>              <td>BIC:</td>         <td>12503.6249</td>\n",
       "</tr>\n",
       "<tr>\n",
       "  <td>Dependent Variable:</td>        <td>D.y</td>          <td>Log-Likelihood:</td>     <td>-6180.4</td> \n",
       "</tr>\n",
       "<tr>\n",
       "         <td>Date:</td>        <td>2020-09-14 17:09</td>        <td>Scale:</td>          <td>1.0000</td>  \n",
       "</tr>\n",
       "<tr>\n",
       "   <td>No. Observations:</td>        <td>1257</td>              <td>Method:</td>         <td>css-mle</td> \n",
       "</tr>\n",
       "<tr>\n",
       "       <td>Df Model:</td>             <td>19</td>               <td>Sample:</td>            <td>1</td>    \n",
       "</tr>\n",
       "<tr>\n",
       "     <td>Df Residuals:</td>          <td>1238</td>                 <td></td>                <td>8</td>    \n",
       "</tr>\n",
       "<tr>\n",
       "      <td>Converged:</td>           <td>0.0000</td>      <td>S.D. of innovations:</td>   <td>32.975</td>  \n",
       "</tr>\n",
       "<tr>\n",
       "    <td>No. Iterations:</td>       <td>500.0000</td>             <td>HQIC:</td>         <td>12439.504</td>\n",
       "</tr>\n",
       "<tr>\n",
       "         <td>AIC:</td>            <td>12400.8952</td>              <td></td>                <td></td>     \n",
       "</tr>\n",
       "</table>\n",
       "<table class=\"simpletable\">\n",
       "<tr>\n",
       "      <td></td>       <th>Coef.</th>  <th>Std.Err.</th>    <th>t</th>     <th>P>|t|</th> <th>[0.025</th>  <th>0.975]</th> \n",
       "</tr>\n",
       "<tr>\n",
       "  <th>const</th>     <td>2.1584</td>   <td>0.8197</td>  <td>2.6330</td>  <td>0.0085</td> <td>0.5517</td>  <td>3.7650</td> \n",
       "</tr>\n",
       "<tr>\n",
       "  <th>ar.L1.D.y</th> <td>0.2175</td>   <td>0.0836</td>  <td>2.6028</td>  <td>0.0092</td> <td>0.0537</td>  <td>0.3812</td> \n",
       "</tr>\n",
       "<tr>\n",
       "  <th>ar.L2.D.y</th> <td>0.1901</td>   <td>0.0916</td>  <td>2.0755</td>  <td>0.0379</td> <td>0.0106</td>  <td>0.3697</td> \n",
       "</tr>\n",
       "<tr>\n",
       "  <th>ar.L3.D.y</th> <td>-0.3005</td>  <td>0.0525</td>  <td>-5.7185</td> <td>0.0000</td> <td>-0.4034</td> <td>-0.1975</td>\n",
       "</tr>\n",
       "<tr>\n",
       "  <th>ar.L4.D.y</th> <td>0.2454</td>   <td>0.0475</td>  <td>5.1617</td>  <td>0.0000</td> <td>0.1522</td>  <td>0.3385</td> \n",
       "</tr>\n",
       "<tr>\n",
       "  <th>ar.L5.D.y</th> <td>0.0234</td>   <td>0.0568</td>  <td>0.4109</td>  <td>0.6811</td> <td>-0.0880</td> <td>0.1348</td> \n",
       "</tr>\n",
       "<tr>\n",
       "  <th>ar.L6.D.y</th> <td>-0.3303</td>  <td>0.0565</td>  <td>-5.8451</td> <td>0.0000</td> <td>-0.4411</td> <td>-0.2195</td>\n",
       "</tr>\n",
       "<tr>\n",
       "  <th>ar.L7.D.y</th> <td>0.4279</td>   <td>0.0510</td>  <td>8.3881</td>  <td>0.0000</td> <td>0.3279</td>  <td>0.5279</td> \n",
       "</tr>\n",
       "<tr>\n",
       "  <th>ar.L8.D.y</th> <td>-0.2281</td>  <td>0.0802</td>  <td>-2.8460</td> <td>0.0044</td> <td>-0.3852</td> <td>-0.0710</td>\n",
       "</tr>\n",
       "<tr>\n",
       "  <th>ar.L9.D.y</th> <td>-0.6910</td>  <td>0.0730</td>  <td>-9.4599</td> <td>0.0000</td> <td>-0.8342</td> <td>-0.5479</td>\n",
       "</tr>\n",
       "<tr>\n",
       "  <th>ma.L1.D.y</th> <td>-0.3103</td>  <td>0.0938</td>  <td>-3.3069</td> <td>0.0009</td> <td>-0.4942</td> <td>-0.1264</td>\n",
       "</tr>\n",
       "<tr>\n",
       "  <th>ma.L2.D.y</th> <td>-0.1546</td>  <td>0.1071</td>  <td>-1.4444</td> <td>0.1486</td> <td>-0.3645</td> <td>0.0552</td> \n",
       "</tr>\n",
       "<tr>\n",
       "  <th>ma.L3.D.y</th> <td>0.2691</td>   <td>0.0528</td>  <td>5.0965</td>  <td>0.0000</td> <td>0.1656</td>  <td>0.3725</td> \n",
       "</tr>\n",
       "<tr>\n",
       "  <th>ma.L4.D.y</th> <td>-0.2690</td>  <td>0.0518</td>  <td>-5.1980</td> <td>0.0000</td> <td>-0.3704</td> <td>-0.1676</td>\n",
       "</tr>\n",
       "<tr>\n",
       "  <th>ma.L5.D.y</th> <td>0.0403</td>   <td>0.0597</td>  <td>0.6742</td>  <td>0.5002</td> <td>-0.0768</td> <td>0.1574</td> \n",
       "</tr>\n",
       "<tr>\n",
       "  <th>ma.L6.D.y</th> <td>0.3486</td>   <td>0.0580</td>  <td>6.0152</td>  <td>0.0000</td> <td>0.2350</td>  <td>0.4622</td> \n",
       "</tr>\n",
       "<tr>\n",
       "  <th>ma.L7.D.y</th> <td>-0.5523</td>  <td>0.0554</td>  <td>-9.9750</td> <td>0.0000</td> <td>-0.6609</td> <td>-0.4438</td>\n",
       "</tr>\n",
       "<tr>\n",
       "  <th>ma.L8.D.y</th> <td>0.3321</td>   <td>0.1000</td>  <td>3.3209</td>  <td>0.0009</td> <td>0.1361</td>  <td>0.5281</td> \n",
       "</tr>\n",
       "<tr>\n",
       "  <th>ma.L9.D.y</th> <td>0.5701</td>   <td>0.0871</td>  <td>6.5469</td>  <td>0.0000</td> <td>0.3994</td>  <td>0.7407</td> \n",
       "</tr>\n",
       "</table>\n",
       "<table class=\"simpletable\">\n",
       "<tr>\n",
       "    <td></td>    <th>Real</th>   <th>Imaginary</th> <th>Modulus</th> <th>Frequency</th>\n",
       "</tr>\n",
       "<tr>\n",
       "  <th>AR.1</th> <td>0.9483</td>   <td>-0.3280</td>  <td>1.0034</td>   <td>-0.0530</td> \n",
       "</tr>\n",
       "<tr>\n",
       "  <th>AR.2</th> <td>0.9483</td>   <td>0.3280</td>   <td>1.0034</td>   <td>0.0530</td>  \n",
       "</tr>\n",
       "<tr>\n",
       "  <th>AR.3</th> <td>0.5415</td>   <td>-0.8620</td>  <td>1.0180</td>   <td>-0.1607</td> \n",
       "</tr>\n",
       "<tr>\n",
       "  <th>AR.4</th> <td>0.5415</td>   <td>0.8620</td>   <td>1.0180</td>   <td>0.1607</td>  \n",
       "</tr>\n",
       "<tr>\n",
       "  <th>AR.5</th> <td>-0.1229</td>  <td>-0.9993</td>  <td>1.0068</td>   <td>-0.2695</td> \n",
       "</tr>\n",
       "<tr>\n",
       "  <th>AR.6</th> <td>-0.1229</td>  <td>0.9993</td>   <td>1.0068</td>   <td>0.2695</td>  \n",
       "</tr>\n",
       "<tr>\n",
       "  <th>AR.7</th> <td>-0.9346</td>  <td>-0.5215</td>  <td>1.0702</td>   <td>-0.4190</td> \n",
       "</tr>\n",
       "<tr>\n",
       "  <th>AR.8</th> <td>-0.9346</td>  <td>0.5215</td>   <td>1.0702</td>   <td>0.4190</td>  \n",
       "</tr>\n",
       "<tr>\n",
       "  <th>AR.9</th> <td>-1.1947</td>  <td>-0.0000</td>  <td>1.1947</td>   <td>-0.5000</td> \n",
       "</tr>\n",
       "<tr>\n",
       "  <th>MA.1</th> <td>0.9538</td>   <td>-0.3239</td>  <td>1.0073</td>   <td>-0.0521</td> \n",
       "</tr>\n",
       "<tr>\n",
       "  <th>MA.2</th> <td>0.9538</td>   <td>0.3239</td>   <td>1.0073</td>   <td>0.0521</td>  \n",
       "</tr>\n",
       "<tr>\n",
       "  <th>MA.3</th> <td>0.5594</td>   <td>-0.8613</td>  <td>1.0271</td>   <td>-0.1583</td> \n",
       "</tr>\n",
       "<tr>\n",
       "  <th>MA.4</th> <td>0.5594</td>   <td>0.8613</td>   <td>1.0271</td>   <td>0.1583</td>  \n",
       "</tr>\n",
       "<tr>\n",
       "  <th>MA.5</th> <td>-0.1278</td>  <td>-0.9919</td>  <td>1.0001</td>   <td>-0.2704</td> \n",
       "</tr>\n",
       "<tr>\n",
       "  <th>MA.6</th> <td>-0.1278</td>  <td>0.9919</td>   <td>1.0001</td>   <td>0.2704</td>  \n",
       "</tr>\n",
       "<tr>\n",
       "  <th>MA.7</th> <td>-0.9546</td>  <td>-0.4728</td>  <td>1.0653</td>   <td>-0.4268</td> \n",
       "</tr>\n",
       "<tr>\n",
       "  <th>MA.8</th> <td>-0.9546</td>  <td>0.4728</td>   <td>1.0653</td>   <td>0.4268</td>  \n",
       "</tr>\n",
       "<tr>\n",
       "  <th>MA.9</th> <td>-1.4441</td>  <td>-0.0000</td>  <td>1.4441</td>   <td>-0.5000</td> \n",
       "</tr>\n",
       "</table>"
      ],
      "text/plain": [
       "<class 'statsmodels.iolib.summary2.Summary'>\n",
       "\"\"\"\n",
       "                           Results: ARIMA\n",
       "====================================================================\n",
       "Model:              ARIMA            BIC:                 12503.6249\n",
       "Dependent Variable: D.y              Log-Likelihood:      -6180.4   \n",
       "Date:               2020-09-14 17:09 Scale:               1.0000    \n",
       "No. Observations:   1257             Method:              css-mle   \n",
       "Df Model:           19               Sample:              1         \n",
       "Df Residuals:       1238                                  8         \n",
       "Converged:          0.0000           S.D. of innovations: 32.975    \n",
       "No. Iterations:     500.0000         HQIC:                12439.504 \n",
       "AIC:                12400.8952                                      \n",
       "----------------------------------------------------------------------\n",
       "              Coef.    Std.Err.      t      P>|t|     [0.025    0.975]\n",
       "----------------------------------------------------------------------\n",
       "const         2.1584     0.8197    2.6330   0.0085    0.5517    3.7650\n",
       "ar.L1.D.y     0.2175     0.0836    2.6028   0.0092    0.0537    0.3812\n",
       "ar.L2.D.y     0.1901     0.0916    2.0755   0.0379    0.0106    0.3697\n",
       "ar.L3.D.y    -0.3005     0.0525   -5.7185   0.0000   -0.4034   -0.1975\n",
       "ar.L4.D.y     0.2454     0.0475    5.1617   0.0000    0.1522    0.3385\n",
       "ar.L5.D.y     0.0234     0.0568    0.4109   0.6811   -0.0880    0.1348\n",
       "ar.L6.D.y    -0.3303     0.0565   -5.8451   0.0000   -0.4411   -0.2195\n",
       "ar.L7.D.y     0.4279     0.0510    8.3881   0.0000    0.3279    0.5279\n",
       "ar.L8.D.y    -0.2281     0.0802   -2.8460   0.0044   -0.3852   -0.0710\n",
       "ar.L9.D.y    -0.6910     0.0730   -9.4599   0.0000   -0.8342   -0.5479\n",
       "ma.L1.D.y    -0.3103     0.0938   -3.3069   0.0009   -0.4942   -0.1264\n",
       "ma.L2.D.y    -0.1546     0.1071   -1.4444   0.1486   -0.3645    0.0552\n",
       "ma.L3.D.y     0.2691     0.0528    5.0965   0.0000    0.1656    0.3725\n",
       "ma.L4.D.y    -0.2690     0.0518   -5.1980   0.0000   -0.3704   -0.1676\n",
       "ma.L5.D.y     0.0403     0.0597    0.6742   0.5002   -0.0768    0.1574\n",
       "ma.L6.D.y     0.3486     0.0580    6.0152   0.0000    0.2350    0.4622\n",
       "ma.L7.D.y    -0.5523     0.0554   -9.9750   0.0000   -0.6609   -0.4438\n",
       "ma.L8.D.y     0.3321     0.1000    3.3209   0.0009    0.1361    0.5281\n",
       "ma.L9.D.y     0.5701     0.0871    6.5469   0.0000    0.3994    0.7407\n",
       "-----------------------------------------------------------------------------\n",
       "                 Real           Imaginary          Modulus          Frequency\n",
       "-----------------------------------------------------------------------------\n",
       "AR.1            0.9483            -0.3280           1.0034            -0.0530\n",
       "AR.2            0.9483             0.3280           1.0034             0.0530\n",
       "AR.3            0.5415            -0.8620           1.0180            -0.1607\n",
       "AR.4            0.5415             0.8620           1.0180             0.1607\n",
       "AR.5           -0.1229            -0.9993           1.0068            -0.2695\n",
       "AR.6           -0.1229             0.9993           1.0068             0.2695\n",
       "AR.7           -0.9346            -0.5215           1.0702            -0.4190\n",
       "AR.8           -0.9346             0.5215           1.0702             0.4190\n",
       "AR.9           -1.1947            -0.0000           1.1947            -0.5000\n",
       "MA.1            0.9538            -0.3239           1.0073            -0.0521\n",
       "MA.2            0.9538             0.3239           1.0073             0.0521\n",
       "MA.3            0.5594            -0.8613           1.0271            -0.1583\n",
       "MA.4            0.5594             0.8613           1.0271             0.1583\n",
       "MA.5           -0.1278            -0.9919           1.0001            -0.2704\n",
       "MA.6           -0.1278             0.9919           1.0001             0.2704\n",
       "MA.7           -0.9546            -0.4728           1.0653            -0.4268\n",
       "MA.8           -0.9546             0.4728           1.0653             0.4268\n",
       "MA.9           -1.4441            -0.0000           1.4441            -0.5000\n",
       "====================================================================\n",
       "\n",
       "\"\"\""
      ]
     },
     "execution_count": 74,
     "metadata": {},
     "output_type": "execute_result"
    }
   ],
   "source": [
    "model.summary2()"
   ]
  },
  {
   "cell_type": "code",
   "execution_count": 70,
   "metadata": {},
   "outputs": [
    {
     "data": {
      "text/plain": [
       "array([3210.87419873, 3197.25336225, 3203.52617475, 3218.052826  ,\n",
       "       3373.76494531])"
      ]
     },
     "execution_count": 70,
     "metadata": {},
     "output_type": "execute_result"
    }
   ],
   "source": [
    "#这里要注意ARIMA与ARMA使用的函数是不同的\n",
    "model.forecast(5)[0]"
   ]
  },
  {
   "cell_type": "code",
   "execution_count": null,
   "metadata": {},
   "outputs": [],
   "source": []
  }
 ],
 "metadata": {
  "kernelspec": {
   "display_name": "Python 3",
   "language": "python",
   "name": "python3"
  },
  "language_info": {
   "codemirror_mode": {
    "name": "ipython",
    "version": 3
   },
   "file_extension": ".py",
   "mimetype": "text/x-python",
   "name": "python",
   "nbconvert_exporter": "python",
   "pygments_lexer": "ipython3",
   "version": "3.6.10"
  }
 },
 "nbformat": 4,
 "nbformat_minor": 4
}
