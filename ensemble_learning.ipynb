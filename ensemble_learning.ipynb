{
 "cells": [
  {
   "cell_type": "code",
   "execution_count": 4,
   "metadata": {},
   "outputs": [],
   "source": [
    "#集成学习\n",
    "# bagging:模型独立，共同表决\n",
    "# boosting:模型有序，逐次提升\n",
    "\n",
    "from sklearn.datasets import load_wine\n",
    "from sklearn.tree import DecisionTreeClassifier\n",
    "from sklearn.model_selection import train_test_split\n",
    "\n",
    "from sklearn.ensemble import RandomForestClassifier, BaggingClassifier, AdaBoostClassifier\n",
    "\n",
    "#数据准备\n",
    "\n",
    "x,y = load_wine(return_X_y=True)\n",
    "\n",
    "x_train,x_test,y_train,y_test = train_test_split(x, y,test_size=0.3, \n",
    "                                                 random_state=0)"
   ]
  },
  {
   "cell_type": "code",
   "execution_count": 7,
   "metadata": {},
   "outputs": [
    {
     "name": "stdout",
     "output_type": "stream",
     "text": [
      "0.9259259259259259\n",
      "0.9814814814814815\n",
      "0.9814814814814815\n",
      "0.9814814814814815\n"
     ]
    }
   ],
   "source": [
    "#模型建立与训练\n",
    "dtc = DecisionTreeClassifier(random_state=22).fit(x_train,y_train)\n",
    "rfc = RandomForestClassifier(random_state=22).fit(x_train,y_train)\n",
    "bgc = BaggingClassifier(random_state=22).fit(x_train,y_train)\n",
    "adc = AdaBoostClassifier(learning_rate=0.1,random_state=22).fit(x_train,y_train)\n",
    "#模型评估\n",
    "print(dtc.score(x_test,y_test))\n",
    "print(rfc.score(x_test,y_test))\n",
    "print(bgc.score(x_test,y_test))\n",
    "print(adc.score(x_test,y_test))"
   ]
  },
  {
   "cell_type": "code",
   "execution_count": null,
   "metadata": {},
   "outputs": [],
   "source": []
  }
 ],
 "metadata": {
  "kernelspec": {
   "display_name": "Python 3",
   "language": "python",
   "name": "python3"
  },
  "language_info": {
   "codemirror_mode": {
    "name": "ipython",
    "version": 3
   },
   "file_extension": ".py",
   "mimetype": "text/x-python",
   "name": "python",
   "nbconvert_exporter": "python",
   "pygments_lexer": "ipython3",
   "version": "3.6.10"
  }
 },
 "nbformat": 4,
 "nbformat_minor": 4
}
